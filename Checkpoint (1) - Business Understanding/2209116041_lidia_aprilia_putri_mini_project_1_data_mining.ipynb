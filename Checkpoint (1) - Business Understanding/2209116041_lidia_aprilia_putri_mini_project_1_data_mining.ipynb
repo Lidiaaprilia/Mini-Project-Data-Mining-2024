{
  "nbformat": 4,
  "nbformat_minor": 0,
  "metadata": {
    "colab": {
      "provenance": [],
      "collapsed_sections": [
        "REN1MInKbT30",
        "YqzpoTsQfoJ6"
      ],
      "include_colab_link": true
    },
    "kernelspec": {
      "name": "python3",
      "display_name": "Python 3"
    },
    "language_info": {
      "name": "python"
    }
  },
  "cells": [
    {
      "cell_type": "markdown",
      "metadata": {
        "id": "view-in-github",
        "colab_type": "text"
      },
      "source": [
        "<a href=\"https://colab.research.google.com/github/Lidiaaprilia/Mini-Project-Data-Mining-2024/blob/main/2209116041_lidia_aprilia_putri_mini_project_1_data_mining.ipynb\" target=\"_parent\"><img src=\"https://colab.research.google.com/assets/colab-badge.svg\" alt=\"Open In Colab\"/></a>"
      ]
    },
    {
      "cell_type": "markdown",
      "source": [
        "# World Hapiness Report\n"
      ],
      "metadata": {
        "id": "REN1MInKbT30"
      }
    },
    {
      "cell_type": "markdown",
      "source": [
        "### Business Understanding"
      ],
      "metadata": {
        "id": "YqzpoTsQfoJ6"
      }
    },
    {
      "cell_type": "markdown",
      "source": [
        "#### Business Objective\n",
        "##### Tujuan bisnis dari dataset ini adalah untuk menganalisis faktor-faktor apa yang memengaruhi tingkat kebahagiaan masyarakat di berbagai negara. Variabel-variabel seperti GDP per kapita, dukungan sosial, tingkat harapan hidup, kebebasan dalam bersuara atau membuat pilihan hidup, tingkat korupsi, dan tingkat kedermawanan dapat berkontribusi terhadap tingkat kebahagiaan setiap negara. Melalui dataset ini juga memungkinkan adanya perbandingan antara negara-negara untuk melihat perbedaan dalam variabel-variabel tingkat kebahagiaan.\n",
        "#### Access Situation\n",
        "##### Situasi bisnis yang mendasari analisis ini adalah pemerintah dari suatu negara dapat menggunakan data tingkat kebahagiaan dunia untuk membentuk kebijakan publik yang lebih baik untuk meningkatkan kualitas hidup masyarakatnya. Tidak hanya dari pihak pemerintah, namun pihak dari suatu perusahaan juga dapat menggunakan data ini untuk mengembangkan produk dan layanan baru yang sesuai dengan tingkat kualitas hidup masyarakat.\n",
        "#### Data Mining Goals\n",
        "##### Tujuan dari Data Mining pada dataset ini adalah untuk membantu mengidentifikasi dan menganalisis variabel-variabel seperti GDP per kapita, dukungan sosial, tingkat harapan hidup, kebebasan, tingkat korupsi, dan tingkat kedermawaman yang berkontibusi pada tingkat kebahagiaan di berbagai negara. Data mining juga dapat membuat prediksi tentang tingkat kebahagiaan di masa depan. Selain itu, analisis data mining pada dataset ini diharapkan dapat memberikan wawasan bagi pemerintah untuk merancang kebijakan yang bertujuan meningkatkan kesejahteraan dan kebahagiaan masyarakatnya.\n",
        "#### Project Plan\n",
        "##### Rencana proyek untuk menganalisis dataset ini dimulai dengan mengunduh dataset \"World Hapiness Report\" yang tersedia dari sumber yang terpercaya. Selanjutnya memahami struktur dan format data yang ada pada setiap-setiap variabel dan membaca dokumentasi untuk pemahaman lebih lanjut mengenai definisi setiap variabel. Selanjutnya, mengidentifikasi dan menangani variabel yang memiliki data kosong jika ada dan mengidentifikasi variabel-variabel yang berkorelasi dengan tingkat kebahagiaan di setiap negara. Terakhir, membuat visualisasi data seperti histogram, scatter plot untuk memahami hubungan antar variabel."
      ],
      "metadata": {
        "id": "3DZfb7Zs4UrG"
      }
    }
  ]
}
